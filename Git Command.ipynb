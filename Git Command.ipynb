{
 "cells": [
  {
   "cell_type": "markdown",
   "metadata": {},
   "source": [
    "# Git Command"
   ]
  },
  {
   "cell_type": "markdown",
   "metadata": {},
   "source": [
    "## 1. Initial Setup"
   ]
  },
  {
   "cell_type": "markdown",
   "metadata": {},
   "source": [
    "### 1.1. Setup Local User Information"
   ]
  },
  {
   "cell_type": "markdown",
   "metadata": {},
   "source": [
    "* Setup user name and email in config  \n",
    "git config --global user.name \"Wayne Rao\"  \n",
    "git config --global user.email \"raoweinan@gmail.com\""
   ]
  },
  {
   "cell_type": "markdown",
   "metadata": {},
   "source": [
    "### 1.2. Basic Knowledge about Repository"
   ]
  },
  {
   "cell_type": "markdown",
   "metadata": {},
   "source": [
    "* Repository includes Stage (Index) and Branch (Master and others)  \n",
    "\n",
    "* HEAD is a pointer pointing to the current branch"
   ]
  },
  {
   "cell_type": "markdown",
   "metadata": {},
   "source": [
    "## 2. Manage A Project Locally"
   ]
  },
  {
   "cell_type": "markdown",
   "metadata": {},
   "source": [
    "### 2.1. Start A Project Repository Locally"
   ]
  },
  {
   "cell_type": "markdown",
   "metadata": {},
   "source": [
    "* Create a new repository  \n",
    "git init  \n",
    "\n",
    "* Clone an existing repository from local path  \n",
    "git clone \\<path\\>"
   ]
  },
  {
   "cell_type": "markdown",
   "metadata": {},
   "source": [
    "### 2.2. Working Directory To Stage (Index)"
   ]
  },
  {
   "cell_type": "markdown",
   "metadata": {},
   "source": [
    "* Check status in working directory (modified, deleted or untracked) and stage (to be committed)  \n",
    "git status  \n",
    "\n",
    "* Check diff in files in working directory and stage  \n",
    "git diff (\\<file\\>)  \n",
    "\n",
    "* Update (Add / Remove) files from working directory to stage  \n",
    "git add / rm \\<file\\>  \n",
    "git add -i  \n",
    "\n",
    "* Roll back files from stage to working direcotry  \n",
    "git checkout -- \\<file\\>"
   ]
  },
  {
   "cell_type": "markdown",
   "metadata": {},
   "source": [
    "### 2.3. Stage (Index) to Branch (Master or Others)"
   ]
  },
  {
   "cell_type": "markdown",
   "metadata": {},
   "source": [
    "* Commit changes from stage to branch (master or others) (add a new version to current branch and HEAD pointer moved to that version)  \n",
    "git commit -m \\<message\\>  \n",
    "\n",
    "* Reset changes from branch (master or others) to stage (update stage with HEAD version)  \n",
    "git reset HEAD \\<file\\>  \n",
    "\n",
    "* Reset to previous / any other version (HEAD pointer moved to that version AND stage and working directory got updated!!)  \n",
    "git reset --hard (HEAD^ / \\<commit_id\\>)  \n",
    "\n",
    "* Check commit history in branch (master or others) (can get commit id)  \n",
    "git log (--pretty=oneline)  \n",
    "\n",
    "* Check commit and reset history in branch (master or others) (can get commit id)  \n",
    "git reflog  "
   ]
  },
  {
   "cell_type": "markdown",
   "metadata": {},
   "source": [
    "### 2.4. Working Directory to Branch (Master or Others)"
   ]
  },
  {
   "cell_type": "markdown",
   "metadata": {},
   "source": [
    "* Check diff in files in working directory and branch (master or others)  \n",
    "git diff HEAD (\\<file\\>)  \n",
    "\n",
    "* Update files from working directory to branch (master or others)  \n",
    "git add AND git commit  \n",
    "\n",
    "* Roll back files from branch (master or others) to working directory  \n",
    "git reset HEAD and git checkout"
   ]
  },
  {
   "cell_type": "markdown",
   "metadata": {},
   "source": [
    "## 3. Manage A Project in GitHub "
   ]
  },
  {
   "cell_type": "markdown",
   "metadata": {},
   "source": [
    "###  3.1. Setup in GitHub"
   ]
  },
  {
   "cell_type": "markdown",
   "metadata": {},
   "source": [
    "* Run below in git bash to create an SSH Key  \n",
    "ssh-keygen -t rsa -C \"raoweinan@gmail.com\"  \n",
    "\n",
    "* Add public key in id_rsa.pub in GitHub - Account - Settings - SSH and GPG Keys - New SSH Key  \n",
    "\n",
    "* Add SSH Key"
   ]
  },
  {
   "cell_type": "markdown",
   "metadata": {},
   "source": [
    "### 3.2. Start A Project Repository in GitHub"
   ]
  },
  {
   "cell_type": "markdown",
   "metadata": {},
   "source": [
    "* Clone an existing repository to local from existed GitHub repository  \n",
    "git clone \\<path\\> / https://github.com/waynerao/learngit.git  \n",
    "\n",
    "* Create an repository in GitHub and link local repository  \n",
    "GitHub - Account - Your Repositories - New  \n",
    "Add repository name (git_learning) and Create repository  \n",
    "\n",
    "* Link the local and remote repository  \n",
    "git remote add origin https://github.com/waynerao/learngit.git  \n",
    "\n",
    "* Remove the link  \n",
    "git remote remove origin  \n",
    "\n",
    "* General path in server  \n",
    "git@server-name:path/repo-name.git  \n",
    "\n",
    "* Below are equivalent, but SSH is faster than HTTP  \n",
    "git@github.com/waynerao/learngit.git  \n",
    "https://github.com/waynerao/learngit.git"
   ]
  },
  {
   "cell_type": "markdown",
   "metadata": {},
   "source": [
    "### 3.3. Push from Local to Remote"
   ]
  },
  {
   "cell_type": "markdown",
   "metadata": {},
   "source": [
    "* Push local repository (master branch) to remote (for the first time to link two master branches)  \n",
    "git push -u origin master  \n",
    "\n",
    "* Push local repository (branch) to remote  \n",
    "git push origin branch (master or others)  "
   ]
  },
  {
   "cell_type": "markdown",
   "metadata": {},
   "source": [
    "## 4. Branch Management "
   ]
  },
  {
   "cell_type": "markdown",
   "metadata": {},
   "source": [
    "### 4.1. Start to Use A New Branch"
   ]
  },
  {
   "cell_type": "markdown",
   "metadata": {},
   "source": [
    "* Create a new branch  \n",
    "git branch \\<branchname\\> / dev  \n",
    "\n",
    "* Create a new branch and switch current repository to that branch  \n",
    "git switch -c \\<branchname\\> / dev  \n",
    "git checkout -b \\<branchname\\> / dev (also works, but checkout is more confusing)  "
   ]
  },
  {
   "cell_type": "markdown",
   "metadata": {},
   "source": [
    "### 4.2. Switch Branch and Branch Status"
   ]
  },
  {
   "cell_type": "markdown",
   "metadata": {},
   "source": [
    "* Switch current branch  \n",
    "git switch \\<branchname\\> / dev  \n",
    "git checkout \\<branchname\\> / dev (also works, but checkout is more confusing)\n",
    "\n",
    "* Check current branch  \n",
    "git branch"
   ]
  },
  {
   "cell_type": "markdown",
   "metadata": {},
   "source": [
    "### 4.3. Merge and Delete Branch"
   ]
  },
  {
   "cell_type": "markdown",
   "metadata": {},
   "source": [
    "* Merge a branch to current branch (master or others) in Fast Forward mode (no commit; lose branch information after merge and delete)  \n",
    "git merge \\<branchname\\> / dev  \n",
    "\n",
    "* Merge a branch to current branch (master or others) in NO Fast Forward mode (= merge in ff + commit -m msg; keep merge and branch info in log)  \n",
    "git merge --no-ff -m \\<msg\\> \\<branchname\\> / dev  \n",
    "\n",
    "* Delete a merged branch  \n",
    "git branch -d \\<branchname\\> / dev\n",
    "\n",
    "* Delete an unmerged branch  \n",
    "git branch -D \\<branchname\\> / dev"
   ]
  },
  {
   "cell_type": "markdown",
   "metadata": {},
   "source": [
    "### 4.4. Conflicts in Merge in Fast Forward Mode"
   ]
  },
  {
   "cell_type": "markdown",
   "metadata": {},
   "source": [
    "* Check conflicts after getting conflicts from git merge  \n",
    "git status\n",
    "\n",
    "* Check conflicts in the file  \n",
    "cat / vi \\<file\\>\n",
    "\n",
    "* After review and update, add and commit again to solve conflicts  \n",
    "git add \\<file\\>  \n",
    "git commit -m \\<msg\\>  \n",
    "\n",
    "* Abort the merge  \n",
    "git merge --abort\n",
    "\n",
    "* Check graph for branch merge  \n",
    "git log --graph"
   ]
  },
  {
   "cell_type": "markdown",
   "metadata": {},
   "source": [
    "### 4.5. Stash Information without Commit before Switch Branch"
   ]
  },
  {
   "cell_type": "markdown",
   "metadata": {},
   "source": [
    "* Save files (have to be added / tracked) in working directory and stage (index)  \n",
    "git stash\n",
    "\n",
    "* Check stash list  \n",
    "git stash list  \n",
    "\n",
    "* Recover working directory and stage (index) in stash  \n",
    "git stash apply (\\<stash_id\\> / stash@{0})\n",
    "\n",
    "* Delete stash  \n",
    "git stash drop (\\<stash_id\\> / stash@{0})\n",
    "\n",
    "* Recover and delete stash (combine 2 together)  \n",
    "git stash pop (\\<stash_id\\> / stash@{0})  \n",
    "\n",
    "* Pick up a certain update from other branch to current branch  \n",
    "git cherry_pick \\<commit_id\\>"
   ]
  },
  {
   "cell_type": "markdown",
   "metadata": {},
   "source": [
    "## 5. Tag Management"
   ]
  },
  {
   "cell_type": "markdown",
   "metadata": {},
   "source": [
    "### 5.1. Create a Tag"
   ]
  },
  {
   "cell_type": "markdown",
   "metadata": {},
   "source": [
    "* Create a tag for HEAD pointer  \n",
    "git tag \\<tag\\>  \n",
    "\n",
    "* Create a tag for other commit  \n",
    "git tag \\<tag\\> \\<commit_id\\> \n",
    "\n",
    "* Create a tag in general (with message)  \n",
    "git tag -a \\<tag\\> -m \\<msg\\> \\<commit_id\\>  \n",
    "\n"
   ]
  },
  {
   "cell_type": "markdown",
   "metadata": {},
   "source": [
    "### 5.2. Delete a Tag"
   ]
  },
  {
   "cell_type": "markdown",
   "metadata": {},
   "source": [
    "* Delete a tag  \n",
    "git tag -d \\<tag\\>  \n",
    "\n"
   ]
  },
  {
   "cell_type": "markdown",
   "metadata": {},
   "source": [
    "### 5.3. Check Tag Information"
   ]
  },
  {
   "cell_type": "markdown",
   "metadata": {},
   "source": [
    "* Check all tags  \n",
    "git tag\n",
    "\n",
    "* Check a tag information (with message)  \n",
    "git show \\<tag\\>"
   ]
  },
  {
   "cell_type": "markdown",
   "metadata": {},
   "source": [
    "### 5.4. Tag in Remote Repository"
   ]
  },
  {
   "cell_type": "markdown",
   "metadata": {},
   "source": [
    "* Push a tag to remote repository  \n",
    "git push origin \\<tag\\>  \n",
    "\n",
    "* Push all tags to remote repository  \n",
    "git push origin --tags  \n",
    "\n",
    "* Remove a tag from remote repository (after remote it from local)  \n",
    "git push origin :refs/tags/\\<tag\\>"
   ]
  },
  {
   "cell_type": "markdown",
   "metadata": {},
   "source": [
    "## 6. Others"
   ]
  },
  {
   "cell_type": "markdown",
   "metadata": {},
   "source": [
    "### 6.1. Git Ignore "
   ]
  },
  {
   "cell_type": "markdown",
   "metadata": {},
   "source": [
    "* Create a ignore file  \n",
    "vi .gitignore  \n",
    "\n",
    "* Add a file regardless of git ignore  \n",
    "git add -f \\<file\\>\n",
    "\n",
    "* Check if file matches ignore rule  \n",
    "git check-ignore -v \\<file\\>  "
   ]
  },
  {
   "cell_type": "markdown",
   "metadata": {},
   "source": [
    "### 6.2. Alias"
   ]
  },
  {
   "cell_type": "markdown",
   "metadata": {},
   "source": [
    "* Check alias file (global)  \n",
    "cat /c/Users/raowe/.gitconfig \n",
    "\n",
    "* Create an alias (global)  \n",
    "git config --global alias.st status  \n",
    "\n",
    "* Other common alias  \n",
    "git config --global alias.co checkout  \n",
    "git config --global alias.ci commit  \n",
    "git config --global alias.br branch  \n",
    "git config --global alias.unstage 'reset HEAD'  \n",
    "git config --global alias.last 'log -1'  \n",
    "git config --global alias.lg \"log --color --graph --pretty=format:'%Cred%h%Creset -%C(yellow)%d%Creset %s %Cgreen(%cr) %C(bold blue)<%an>%Creset' --abbrev-commit\"  \n",
    "\n",
    "* Check alias file for current repository  \n",
    "cat .git/config\n",
    "\n",
    "* Create an alias for current repository  \n",
    "git config alias.\\<alias\\> \\<original_name\\>"
   ]
  },
  {
   "cell_type": "code",
   "execution_count": null,
   "metadata": {},
   "outputs": [],
   "source": []
  }
 ],
 "metadata": {
  "kernelspec": {
   "display_name": "Python 3",
   "language": "python",
   "name": "python3"
  },
  "language_info": {
   "codemirror_mode": {
    "name": "ipython",
    "version": 3
   },
   "file_extension": ".py",
   "mimetype": "text/x-python",
   "name": "python",
   "nbconvert_exporter": "python",
   "pygments_lexer": "ipython3",
   "version": "3.7.4"
  }
 },
 "nbformat": 4,
 "nbformat_minor": 4
}
